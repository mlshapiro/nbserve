{
 "worksheets": [
  {
   "cells": [
    {
     "cell_type": "markdown",
     "metadata": {},
     "source": [
      "This notebook tests whether the namespace is properly (or at least somewhat) reset between runs."
     ]
    },
    {
     "cell_type": "code",
     "execution_count": null,
     "metadata": {},
     "outputs": [],
     "input": [
      "print \"After reset, had 1: %s\" % IPython"
     ],
     "language": "python"
    },
    {
     "cell_type": "code",
     "execution_count": null,
     "metadata": {},
     "outputs": [],
     "input": [
      "print \"After reset, had 2: %s\" % runipy"
     ],
     "language": "python"
    },
    {
     "cell_type": "code",
     "execution_count": null,
     "metadata": {},
     "outputs": [],
     "input": [
      "print \"After reset, had 3: %s\" % my_var"
     ],
     "language": "python"
    },
    {
     "cell_type": "code",
     "execution_count": null,
     "metadata": {},
     "outputs": [],
     "input": [
      "import runipy\n",
      "print \"After reset, had 4: %s\" % runipy.tempvar"
     ],
     "language": "python"
    },
    {
     "cell_type": "code",
     "execution_count": null,
     "metadata": {},
     "outputs": [],
     "input": [
      ""
     ],
     "language": "python"
    },
    {
     "cell_type": "code",
     "execution_count": null,
     "metadata": {},
     "outputs": [],
     "input": [
      ""
     ],
     "language": "python"
    },
    {
     "cell_type": "code",
     "execution_count": null,
     "metadata": {},
     "outputs": [],
     "input": [
      "import IPython\n",
      "import runipy\n",
      "my_var = \"old value\"\n",
      "runipy.tempvar = \"temp value\""
     ],
     "language": "python",
     "prompt_number": 11
    },
    {
     "cell_type": "code",
     "execution_count": null,
     "metadata": {},
     "outputs": [
      {
       "stream": "stdout",
       "output_type": "stream",
       "text": [
        "Before reset, had 1: <module 'IPython' from '/Users/rob/anaconda/lib/python2.7/site-packages/IPython/__init__.pyc'>\n",
        "Before reset, had 2: <module 'runipy' from '/Users/rob/anaconda/lib/python2.7/site-packages/runipy-0.1.0-py2.7.egg/runipy/__init__.py'>\n",
        "Before reset, had 3: old value\n",
        "Before reset, had 4: temp value\n"
       ]
      }
     ],
     "input": [
      "print \"Before reset, had 1: %s\" % IPython\n",
      "print \"Before reset, had 2: %s\" % runipy\n",
      "print \"Before reset, had 3: %s\" % my_var\n",
      "print \"Before reset, had 4: %s\" % runipy.tempvar"
     ],
     "language": "python",
     "prompt_number": 13
    }
   ]
  }
 ],
 "cells": [],
 "metadata": {
  "name": "",
  "signature": "sha256:4c268c2efc95d13b466f7193ee22083fa02d16c212ea6bc28d5ca9591ae9ad26"
 },
 "nbformat": 4,
 "nbformat_minor": 0
}