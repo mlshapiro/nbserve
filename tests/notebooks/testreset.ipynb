{
 "worksheets": [
  {
   "cells": [
    {
     "cell_type": "code",
     "execution_count": null,
     "metadata": {},
     "outputs": [],
     "input": [
      "import IPython\n",
      "import runipy\n",
      "my_var = \"old value\"\n",
      "runipy.tempvar = \"temp value\""
     ],
     "language": "python",
     "prompt_number": 1
    },
    {
     "cell_type": "code",
     "execution_count": null,
     "metadata": {},
     "outputs": [
      {
       "stream": "stdout",
       "output_type": "stream",
       "text": [
        "Before reset, had 1: <module 'IPython' from '/Users/rob/anaconda/lib/python2.7/site-packages/IPython/__init__.pyc'>\n",
        "Before reset, had 2: <module 'runipy' from '/Users/rob/anaconda/lib/python2.7/site-packages/runipy-0.1.0-py2.7.egg/runipy/__init__.py'>\n",
        "Before reset, had 3: old value\n",
        "Before reset, had 4: temp value\n"
       ]
      }
     ],
     "input": [
      "print \"Before reset, had 1: %s\" % IPython\n",
      "print \"Before reset, had 2: %s\" % runipy\n",
      "print \"Before reset, had 3: %s\" % my_var\n",
      "print \"Before reset, had 4: %s\" % runipy.tempvar"
     ],
     "language": "python",
     "prompt_number": 2
    },
    {
     "cell_type": "code",
     "execution_count": null,
     "metadata": {},
     "outputs": [],
     "input": [
      "%reset -f\n",
      "import sys\n",
      "sys.modules\n",
      "del sys.modules['ConfigParser']"
     ],
     "language": "python",
     "prompt_number": 3
    },
    {
     "cell_type": "code",
     "execution_count": null,
     "metadata": {},
     "outputs": [],
     "input": [
      "ip = get_ipython()\n",
      "ip.reset?"
     ],
     "language": "python",
     "prompt_number": 8
    },
    {
     "cell_type": "code",
     "execution_count": null,
     "metadata": {},
     "outputs": [
      {
       "ename": "NameError",
       "evalue": "name 'IPython' is not defined",
       "traceback": [
        "\u001b[0;31m---------------------------------------------------------------------------\u001b[0m\n\u001b[0;31mNameError\u001b[0m                                 Traceback (most recent call last)",
        "\u001b[0;32m<ipython-input-4-1401cf401d78>\u001b[0m in \u001b[0;36m<module>\u001b[0;34m()\u001b[0m\n\u001b[0;32m----> 1\u001b[0;31m \u001b[0;32mprint\u001b[0m \u001b[0;34m\"After reset, had 1: %s\"\u001b[0m \u001b[0;34m%\u001b[0m \u001b[0mIPython\u001b[0m\u001b[0;34m\u001b[0m\u001b[0m\n\u001b[0m",
        "\u001b[0;31mNameError\u001b[0m: name 'IPython' is not defined"
       ],
       "output_type": "pyerr"
      }
     ],
     "input": [
      "print \"After reset, had 1: %s\" % IPython"
     ],
     "language": "python",
     "prompt_number": 4
    },
    {
     "cell_type": "code",
     "execution_count": null,
     "metadata": {},
     "outputs": [],
     "input": [
      "print \"After reset, had 2: %s\" % runipy"
     ],
     "language": "python"
    },
    {
     "cell_type": "code",
     "execution_count": null,
     "metadata": {},
     "outputs": [],
     "input": [
      "print \"After reset, had 3: %s\" % my_var"
     ],
     "language": "python"
    },
    {
     "cell_type": "code",
     "execution_count": null,
     "metadata": {},
     "outputs": [],
     "input": [
      "import runipy\n",
      "print \"After reset, had 4: %s\" % runipy.tempvar"
     ],
     "language": "python"
    }
   ]
  }
 ],
 "cells": [],
 "metadata": {
  "name": "",
  "signature": "sha256:d89e4968f4730eefd33dfdd8f7a9d99074fcb58e3e5c881de61b801eeadf677e"
 },
 "nbformat": 4,
 "nbformat_minor": 0
}